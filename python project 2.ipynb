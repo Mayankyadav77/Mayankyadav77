{
  "nbformat": 4,
  "nbformat_minor": 0,
  "metadata": {
    "colab": {
      "provenance": [],
      "authorship_tag": "ABX9TyNjTs/sm0ZQuBJp/pWLl5Vm",
      "include_colab_link": true
    },
    "kernelspec": {
      "name": "python3",
      "display_name": "Python 3"
    },
    "language_info": {
      "name": "python"
    }
  },
  "cells": [
    {
      "cell_type": "markdown",
      "metadata": {
        "id": "view-in-github",
        "colab_type": "text"
      },
      "source": [
        "<a href=\"https://colab.research.google.com/github/Mayankyadav77/Mayankyadav77/blob/main/python%20project%202.ipynb\" target=\"_parent\"><img src=\"https://colab.research.google.com/assets/colab-badge.svg\" alt=\"Open In Colab\"/></a>"
      ]
    },
    {
      "cell_type": "code",
      "execution_count": null,
      "metadata": {
        "id": "VS0jtAdcmFEU"
      },
      "outputs": [],
      "source": [
        "class ToDoList:\n",
        "    def __init__(self):\n",
        "        self.tasks = []\n",
        "\n",
        "    def add_task(self, task):\n",
        "        self.tasks.append({\"task\": task, \"completed\": False})\n",
        "\n",
        "    def mark_task_completed(self, task_index):\n",
        "        if 0 <= task_index < len(self.tasks):\n",
        "            self.tasks[task_index][\"completed\"] = True\n",
        "            print(f\"Task '{self.tasks[task_index]['task']}' marked as completed.\")\n",
        "        else:\n",
        "            print(\"Invalid task index.\")\n",
        "\n",
        "    def display_all_tasks(self):\n",
        "        print(\"All tasks:\")\n",
        "        for index, task in enumerate(self.tasks):\n",
        "            print(f\"{index + 1}. [{'✓' if task['completed'] else ' '}] {task['task']}\")\n",
        "\n",
        "    def display_incomplete_tasks(self):\n",
        "        print(\"Incomplete tasks:\")\n",
        "        for index, task in enumerate(self.tasks):\n",
        "            if not task[\"completed\"]:\n",
        "                print(f\"{index + 1}. {task['task']}\")\n",
        "\n",
        "# Example usage:\n",
        "todo_list = ToDoList()\n",
        "\n",
        "todo_list.add_task(\"Write report\")\n",
        "todo_list.add_task(\"Buy groceries\")\n",
        "todo_list.add_task(\"Call mom\")\n",
        "\n",
        "todo_list.display_all_tasks()\n",
        "\n",
        "todo_list.mark_task_completed(1)\n",
        "\n",
        "todo_list.display_all_tasks()\n",
        "\n",
        "todo_list.display_incomplete_tasks()\n"
      ]
    }
  ]
}